{
 "cells": [
  {
   "cell_type": "markdown",
   "id": "89c2488d-91bc-4007-81ae-8876fb2f4ec9",
   "metadata": {},
   "source": [
    "Q1. Write a Python function that takes in two arrays of data and calculates the F-value for a variance ratio\n",
    "test. The function should return the F-value and the corresponding p-value for the test."
   ]
  },
  {
   "cell_type": "code",
   "execution_count": 4,
   "id": "bbea487b-afdd-4151-8bb2-5af4dc93e499",
   "metadata": {},
   "outputs": [
    {
     "name": "stdout",
     "output_type": "stream",
     "text": [
      "f_stat is  1.0\n",
      "p_value is  0.3465935070873342\n"
     ]
    }
   ],
   "source": [
    "from scipy.stats import f_oneway\n",
    "\n",
    "def var_ratio_test(data1,data2):\n",
    "    f_stat, p_value = f_oneway(data1,data2)  \n",
    "    return f_stat, p_value\n",
    "\n",
    "data1 = [10, 12, 14, 16, 18]\n",
    "data2 = [8, 10, 12, 14, 16]\n",
    "\n",
    "f_stat, p_value = variance_ratio_test(data1,data2)\n",
    "print (\"f_stat is \", f_stat)\n",
    "print(\"p_value is \" ,p_value)"
   ]
  },
  {
   "cell_type": "markdown",
   "id": "5bc225f1-f57f-40bc-8942-9ddd25dc21fc",
   "metadata": {},
   "source": [
    "Q2. Given a significance level of 0.05 and the degrees of freedom for the numerator and denominator of an\n",
    "F-distribution, write a Python function that returns the critical F-value for a two-tailed test."
   ]
  },
  {
   "cell_type": "code",
   "execution_count": 10,
   "id": "81172156-a94d-4aa8-8eff-416f51614143",
   "metadata": {},
   "outputs": [
    {
     "name": "stdout",
     "output_type": "stream",
     "text": [
      "Critical F-value: 3.8586986662732143\n"
     ]
    }
   ],
   "source": [
    "from scipy.stats import f\n",
    "\n",
    "def critical_f_value(significance , dfn, dfd):\n",
    "    critical_f = f.ppf(1-significance/2,dfn,dfd)\n",
    "    return critical_f\n",
    "\n",
    "\n",
    "critical_f = critical_f_value(0.05,3,20)\n",
    "print(\"Critical F-value:\", critical_f)"
   ]
  },
  {
   "cell_type": "markdown",
   "id": "c7827b1c-1282-4d31-bcdb-f20152b1a851",
   "metadata": {},
   "source": [
    "Q3. Write a Python program that generates random samples from two normal distributions with known variances and uses an F-test to determine if the variances are equal. The program should output the F-\n",
    "value, degrees of freedom, and p-value for the test."
   ]
  },
  {
   "cell_type": "code",
   "execution_count": 11,
   "id": "8b9f7ac2-fba5-4bea-babf-74bc43e97279",
   "metadata": {},
   "outputs": [
    {
     "name": "stdout",
     "output_type": "stream",
     "text": [
      "F-value: 2.371177811755986\n",
      "Degrees of freedom (numerator): 99\n",
      "Degrees of freedom (denominator): 99\n",
      "p-value: 2.435015143875674e-05\n"
     ]
    }
   ],
   "source": [
    "from scipy.stats import f\n",
    "import numpy as np\n",
    "\n",
    "def f_test_for_equal_variances(data1, data2):\n",
    "    \"\"\"\n",
    "    Perform an F-test to determine if the variances of two normal distributions are equal.\n",
    "\n",
    "    Parameters:\n",
    "    - data1: Array-like object containing the data for the first sample\n",
    "    - data2: Array-like object containing the data for the second sample\n",
    "\n",
    "    Returns:\n",
    "    - f_value: The calculated F-value\n",
    "    - dfn: Degrees of freedom for the numerator\n",
    "    - dfd: Degrees of freedom for the denominator\n",
    "    - p_value: The corresponding p-value\n",
    "    \"\"\"\n",
    "    # Calculate the variances of the samples\n",
    "    var1 = np.var(data1, ddof=1)  # ddof=1 for unbiased estimator\n",
    "    var2 = np.var(data2, ddof=1)\n",
    "\n",
    "    # Calculate the F-value\n",
    "    f_value = var1 / var2 if var1 > var2 else var2 / var1\n",
    "\n",
    "    # Degrees of freedom\n",
    "    dfn = len(data1) - 1\n",
    "    dfd = len(data2) - 1\n",
    "\n",
    "    # Calculate the p-value\n",
    "    p_value = 2 * min(f.cdf(f_value, dfn, dfd), 1 - f.cdf(f_value, dfn, dfd))\n",
    "\n",
    "    return f_value, dfn, dfd, p_value\n",
    "\n",
    "# Generate random samples from two normal distributions with known variances\n",
    "np.random.seed(0)  # for reproducibility\n",
    "data1 = np.random.normal(loc=0, scale=1, size=100)  # mean=0, standard deviation=1\n",
    "data2 = np.random.normal(loc=0, scale=1.5, size=100)  # mean=0, standard deviation=1.5\n",
    "\n",
    "# Perform F-test\n",
    "f_value, dfn, dfd, p_value = f_test_for_equal_variances(data1, data2)\n",
    "\n",
    "# Output results\n",
    "print(\"F-value:\", f_value)\n",
    "print(\"Degrees of freedom (numerator):\", dfn)\n",
    "print(\"Degrees of freedom (denominator):\", dfd)\n",
    "print(\"p-value:\", p_value)\n"
   ]
  },
  {
   "cell_type": "markdown",
   "id": "968297c5-0403-426b-9cb5-dcd2f3649093",
   "metadata": {},
   "source": [
    "Q4.The variances of two populations are known to be 10 and 15. A sample of 12 observations is taken from\n",
    "each population. Conduct an F-test at the 5% significance level to determine if the variances are\n",
    "significantly different."
   ]
  },
  {
   "cell_type": "markdown",
   "id": "7e3d2d60-787a-471d-8359-620ceb5f8429",
   "metadata": {},
   "source": [
    "Given:\n",
    "\n",
    "Population 1 variance (std1^2) = 10\n",
    "\n",
    "Population 2 variance (std2^2) = 15\n",
    "\n",
    "Sample size (n) = 12 for each population\n",
    "\n",
    "Significance level (α) = 0.05\n",
    "\n",
    "Null Hypothesis (H0): std1^2 = std2^2\n",
    "\n",
    "Alternative Hypothesis (H1): std1^2 != std1^2\n",
    "\n",
    "Calculate the F-statistic:\n",
    "F = 10 / 15 = 0.6667\n",
    "\n",
    "Degrees of freedom:\n",
    "\n",
    "Degree of freedom numerator (df1) = n1 - 1 = 12 - 1 = 11\n",
    "\n",
    "Degree of freedom denominator (df2) = n2 - 1 = 12 - 1 = 11\n",
    "\n",
    "Critical F-value: Look up the critical F-value with α = 0.05, df1 = 11, and df2 = 11. Let's assume the critical F-value to be approximately 3.82 \n",
    "\n",
    "Now, we compare the calculated F-statistic (0.6667) with the critical F-value (3.82).\n",
    "\n",
    "Since 0.6667 < 3.82, we fail to reject the null hypothesis.\n",
    "\n",
    "Conclusion: At the 5% significance level, there is not enough evidence to conclude that the variances of the two populations are significantly different."
   ]
  },
  {
   "cell_type": "markdown",
   "id": "aaa13d52-8b0f-47ff-afed-07c8cb7667ba",
   "metadata": {},
   "source": [
    "Q5. A manufacturer claims that the variance of the diameter of a certain product is 0.005. A sample of 25\n",
    "products is taken, and the sample variance is found to be 0.006. Conduct an F-test at the 1% significance\n",
    "level to determine if the claim is justified."
   ]
  },
  {
   "cell_type": "markdown",
   "id": "c4ff2ec8-82d1-450d-bc82-14bce3eaf2bb",
   "metadata": {},
   "source": [
    "given,\n",
    "\n",
    "Sample variance(S^2) = 0.006\n",
    "\n",
    "population variance (σ^2) = 0.005\n",
    "\n",
    "size (n) = 25\n",
    "\n",
    "Significance level(α) = 0.001\n",
    "\n",
    "\n",
    "Null hypothesis = population variance(S^2) = 0.005\n",
    "\n",
    "Alternate hypothesis =population variance(S^2) != 0.005\n",
    "\n",
    "Calculate F-statistics: 0.006/0.005 = 1.2\n",
    "\n",
    "Calculate degree of freedom (dof):\n",
    "  n-1 = 25 - 1 \n",
    "  = 24\n",
    "\n",
    "Critical F-value: Look up the critical F-value with α = 0.01 and df1 = 24. Let's assume the critical F-value to be approximately 4.74\n",
    "    \n",
    "Now, we compare the calculated F-statistic (1.2) with the critical F-value (4.74).\n",
    "\n",
    "Since 1.2 < 4.74, we fail to reject the null hypothesis.\n",
    "\n",
    "Conclusion: At the 1% significance level, there is not enough evidence to conclude that the variance of the diameter of the product differs from the claimed variance of 0.005."
   ]
  },
  {
   "cell_type": "markdown",
   "id": "5f4a7abe-3c24-4a6c-8f1a-adc2f85ac7c2",
   "metadata": {},
   "source": [
    "Q6. Write a Python function that takes in the degrees of freedom for the numerator and denominator of an\n",
    "F-distribution and calculates the mean and variance of the distribution. The function should return the\n",
    "mean and variance as a tuple."
   ]
  },
  {
   "cell_type": "code",
   "execution_count": 2,
   "id": "61d62a75-6144-442e-bdd5-e87b49a87d56",
   "metadata": {},
   "outputs": [
    {
     "name": "stdout",
     "output_type": "stream",
     "text": [
      "Mean of F-distribution: 1.1538461538461537\n",
      "Variance of F-distribution: 0.556750941366326\n"
     ]
    }
   ],
   "source": [
    "def f_distribution_mean_variance(df1, df2):\n",
    "    \"\"\"\n",
    "    Calculate the mean and variance of an F-distribution.\n",
    "\n",
    "    Parameters:\n",
    "        df1 (int): Degrees of freedom for the numerator.\n",
    "        df2 (int): Degrees of freedom for the denominator.\n",
    "\n",
    "    Returns:\n",
    "        tuple: Mean and variance of the F-distribution.\n",
    "    \"\"\"\n",
    "    # Mean of the F-distribution\n",
    "    \n",
    "    mean = df2 / (df2 - 2) if df2 > 2 else None\n",
    "\n",
    "    # Variance of the F-distribution\n",
    "    \n",
    "    if df2 > 4:\n",
    "        \n",
    "        variance = (2 * df2 ** 2 * (df1 + df2 - 2)) / (df1 * (df2 - 2) ** 2 * (df2 - 4))\n",
    "\n",
    "    else:\n",
    "        \n",
    "        variance = None\n",
    "\n",
    "    return mean, variance\n",
    "\n",
    "# Example usage:\n",
    "\n",
    "df1 = 10\n",
    "\n",
    "df2 = 15\n",
    "\n",
    "mean, variance = f_distribution_mean_variance(df1, df2)\n",
    "\n",
    "print(\"Mean of F-distribution:\", mean)\n",
    "\n",
    "print(\"Variance of F-distribution:\", variance)\n"
   ]
  },
  {
   "cell_type": "markdown",
   "id": "c580c0f5-f239-4370-a1b2-961336d7d013",
   "metadata": {},
   "source": [
    "Q7. A random sample of 10 measurements is taken from a normal population with unknown variance. The\n",
    "sample variance is found to be 25. Another random sample of 15 measurements is taken from another\n",
    "normal population with unknown variance, and the sample variance is found to be 20. Conduct an F-test\n",
    "at the 10% significance level to determine if the variances are significantly different."
   ]
  },
  {
   "cell_type": "markdown",
   "id": "d074282d-887f-4158-81ec-efd47fc3ea80",
   "metadata": {},
   "source": [
    "Given \n",
    "\n",
    "Sample1 size (n1) = 10 \n",
    "\n",
    "Sample1 variance (S1^2) = 25\n",
    "\n",
    "Sample2 size (n2) = 15\n",
    "\n",
    "Sample2 variance (S2^2) = 20\n",
    "\n",
    "significance_level = 0.10\n",
    "\n",
    "Null hypothesis = Variances of 2 populations are equal\n",
    "\n",
    "Alternate hypothesis = Variances of 2 populations are significantly different\n",
    "\n",
    "Calculate the F-statistics:\n",
    "F = 25/20 = 1.25\n",
    "\n",
    "Degree of freedom (df1) = n1-1 = 10-1 = 9\n",
    "\n",
    "Degree of freedom (df2) = n2-1 = 15 - 1 = 14\n",
    "\n",
    "Critical F-value: Look up the critical F-value with significance_level = 0.10, df1 = 9, and df2 = 14. Let's assume the critical F-value to be approximately 2.55\n",
    "\n",
    "Now, we compare the calculated F-statistic (1.25) with the critical F-value (2.55).\n",
    "\n",
    "since 1.25 < 2.55 , we fail to reject the null hypothesis.\n",
    "\n",
    "Conclusion: At the 10% significance level, there is not enough evidence to conclude that the variances of the two populations are significantly different.\n"
   ]
  },
  {
   "cell_type": "markdown",
   "id": "6b446868-d007-4050-a431-96629ed9a0af",
   "metadata": {},
   "source": [
    "Q8. The following data represent the waiting times in minutes at two different restaurants on a Saturday\n",
    "night: Restaurant A: 24, 25, 28, 23, 22, 20, 27; Restaurant B: 31, 33, 35, 30, 32, 36. Conduct an F-test at the 5%\n",
    "significance level to determine if the variances are significantly different."
   ]
  },
  {
   "cell_type": "markdown",
   "id": "3c2557a5-f4d2-4ff7-9d02-3c89855ee2aa",
   "metadata": {},
   "source": [
    "Restaurant A:[24, 25, 28, 23, 22, 20, 27]\n",
    "\n",
    "Restaurant B: [31, 33, 35, 30, 32, 36]\n",
    "\n",
    "significance_level = 0.05\n",
    "\n",
    "Null hypothesis = The variances of the waiting times at the two restaurants are equal.\n",
    "\n",
    "Alternate hypothesis = The variances of the waiting times at the two restaurants are Different.\n",
    "\n",
    "mean_A = (24+25+28+23+22+20+27) /7  = 23.14\n",
    "\n",
    "Sample variance for Restaurant A = \n",
    "\n",
    "S1^2 (Sample variance for Restaurant A) : [(24- 23.14)^2 + (25- 23.14)^2 + (28- 23.14)^2 + (23- 23.14)^2 + (22- 23.14)^2 + (20- 23.14)^2 + (27- 23.14)^2 ] / (7 - 1) ≈ 7.476\n",
    "\n",
    "mean_B = (31+33+35+30+32+36) /6 = 32.83\n",
    "\n",
    "Sample variance for Restaurant B = \n",
    "\n",
    "S2^2 (Sample variance for Restaurant B) : [(31 - 32.83)^2 + (33 - 32.83)^2 + (35 - 32.83)^2 + (30 - 32.83)^2 + (32 - 32.83)^2 + (36 - 32.83)^2] / (6 - 1) ≈ 5.76\n",
    "\n",
    "Calculate the F- statistics: \n",
    "\n",
    "F = 7.476 / 5.76 ≈ 1.296\n",
    "\n",
    "Degrees of freedom :\n",
    "\n",
    "Degree of freedom numerator (df1) = 7 - 1 = 6\n",
    "\n",
    "Degree of freedom denominator (df2) = 6 - 1 = 5\n",
    "\n",
    "Critical F-value: Look up the critical F-value with α = 0.05, df1 = 6, and df2 = 5. Let's assume the critical F-value to be approximately 5.99 \n",
    "\n",
    "Now, we compare the calculated F-statistic (1.296) with the critical F-value (5.99).\n",
    "\n",
    "Since 1.296 < 5.99, we fail to reject the null hypothesis.\n",
    "\n",
    "Conclusion: At the 5% significance level, there is not enough evidence to conclude that the variances of the waiting times at the two restaurants are significantly different."
   ]
  },
  {
   "cell_type": "markdown",
   "id": "185787cd-f6f7-44f8-897f-db1f5bc616a9",
   "metadata": {},
   "source": [
    "Q9. The following data represent the test scores of two groups of students: Group A: 80, 85, 90, 92, 87, 83;\n",
    "Group B: 75, 78, 82, 79, 81, 84. Conduct an F-test at the 1% significance level to determine if the variances\n",
    "are significantly different."
   ]
  },
  {
   "cell_type": "markdown",
   "id": "dc5fb9a3-9163-4d14-a333-ef5711aa8bfb",
   "metadata": {},
   "source": [
    "Group A:[80, 85, 90, 92, 87, 83]\n",
    "\n",
    "Group B: [75, 78, 82, 79, 81, 84]\n",
    "\n",
    "significance_level = 0.01\n",
    "\n",
    "Null Hypothesis (H0): The variances of the test scores of the two groups are equal.\n",
    "\n",
    "Alternative Hypothesis (H1): The variances of the test scores of the two groups are not equal.\n",
    "\n",
    "mean_A = (80 + 85 + 90 + 92 + 87 + 83) / 6 = 85.17\n",
    "\n",
    "Sample variance for Restaurant A = \n",
    "\n",
    "S1^2 (Sample variance for Restaurant A) : [(80- 85.17)^2 + (85- 85.17)^2 + (90- 85.17)^2 +(92- 85.17)^2 + (87- 85.17)^2 + (83- 85.17)^2 ] / (6 - 1) ≈ 19.56\n",
    "\n",
    "Mean_B = (75 + 78 + 82 + 79 + 81 + 84) / 6 = 79.83\n",
    "\n",
    "S2^2 (Sample variance for Restaurant B) : [(75 - 79.83)^2 + (33 -79.83)^2 + (35 - 79.83)^2 + (30 - 79.833)^2 + (32 - 79.83)^2 + (36 - 79.83)^2] / (6 - 1) ≈ 14.39\n",
    "\n",
    "Calculate the F- statistics: \n",
    "\n",
    "F = 19.56 / 14.39 ≈ 1.36\n",
    "\n",
    "Degrees of freedom :\n",
    "\n",
    "Degree of freedom numerator (df1) = 6 - 1 = 5\n",
    "\n",
    "Degree of freedom denominator (df2) = 6 - 1 = 5\n",
    "\n",
    "Critical F-value: Look up the critical F-value with α = 0.01, df1 = 5, and df2 = 5. Let's assume the critical F-value to be approximately 5.99 \n",
    "\n",
    "Now, we compare the calculated F-statistic (1.36) with the critical F-value (10.13).\n",
    "\n",
    "Since 1.36 < 10.13, we fail to reject the null hypothesis.\n",
    "\n",
    "Conclusion: At the 1% significance level, there is not enough evidence to conclude that the variances of the test scores of the two groups are significantly different."
   ]
  },
  {
   "cell_type": "code",
   "execution_count": null,
   "id": "5ed79fe0-7753-4820-a416-9d2571c893f2",
   "metadata": {},
   "outputs": [],
   "source": []
  }
 ],
 "metadata": {
  "kernelspec": {
   "display_name": "Python 3 (ipykernel)",
   "language": "python",
   "name": "python3"
  },
  "language_info": {
   "codemirror_mode": {
    "name": "ipython",
    "version": 3
   },
   "file_extension": ".py",
   "mimetype": "text/x-python",
   "name": "python",
   "nbconvert_exporter": "python",
   "pygments_lexer": "ipython3",
   "version": "3.10.8"
  }
 },
 "nbformat": 4,
 "nbformat_minor": 5
}
